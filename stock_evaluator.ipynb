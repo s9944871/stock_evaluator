{
 "cells": [
  {
   "cell_type": "markdown",
   "metadata": {},
   "source": [
    "### 資訊\n",
    "* 逐支的頭頁 https://goodinfo.tw/tw/StockDetail.asp?STOCK_ID=2330\n",
    "* 逐支的股利政策頁 https://goodinfo.tw/tw/StockDividendPolicy.asp?STOCK_ID=2330\n",
    "* 逐支的本益比頁 https://goodinfo.tw/tw/ShowK_ChartFlow.asp?RPT_CAT=PER&STOCK_ID=2330&CHT_CAT=WEEK\n",
    "* 逐支的財務比率頁 https://goodinfo.tw/tw/StockFinDetail.asp?RPT_CAT=XX_M_QUAR_ACC&STOCK_ID=2330\n",
    "* 逐支的資產負債表頁 https://goodinfo.tw/tw/StockFinDetail.asp?RPT_CAT=BS_M_QUAR&STOCK_ID=2330\n",
    "* 逐支的損益表頁 https://goodinfo.tw/tw/StockFinDetail.asp?RPT_CAT=IS_M_QUAR_ACC&STOCK_ID=2330\n",
    "* 逐支的月營收頁 https://goodinfo.tw/tw/ShowSaleMonChart.asp?STOCK_ID=2330\n",
    "* 逐支的現金流量表頁 https://goodinfo.tw/tw/StockFinDetail.asp?RPT_CAT=CF_M_QUAR_ACC&STOCK_ID=2330"
   ]
  },
  {
   "cell_type": "markdown",
   "metadata": {},
   "source": [
    "### 標準\n",
    "* 本益比20以下 (現金股利是趁來的，毋是分傢伙)\n",
    "* 過去5冬現金殖利率攏有差不多5%。像：華碩、瑞傳。用e點通內底的傢私抑是網路傢私篩揀。\n",
    "* 營業活動現金流入過去五冬是正數。\n",
    "* 流動負債過去五冬愛較低30%。\n",
    "* 營業利率過去五冬愛有5%。\n",
    "* 過去6月日營收袂使衰退超過30%。\n",
    "* 用目前EPS照過去逐季EPS比例、盈餘分配率估5%殖利率來看的合理股價。\n",
    "* 目前收盤價。\n",
    "* 產業別。\n",
    "#### 其他考慮點\n",
    "* 用五線譜投資定期看來判斷股價懸低，五線譜 https://invest.wessiorfinance.com/notation.html 就有selecting functions。愛看兩項。"
   ]
  },
  {
   "cell_type": "code",
   "execution_count": 1,
   "metadata": {},
   "outputs": [],
   "source": [
    "import requests\n",
    "from bs4 import BeautifulSoup"
   ]
  },
  {
   "cell_type": "code",
   "execution_count": 2,
   "metadata": {},
   "outputs": [
    {
     "name": "stdout",
     "output_type": "stream",
     "text": [
      "輸入股票代號2347\n"
     ]
    },
    {
     "data": {
      "text/plain": [
       "<!DOCTYPE html PUBLIC \"-//W3C//DTD XHTML 1.0 Transitional//EN\" \"http://www.w3.org/TR/xhtml1/DTD/xhtml1-transitional.dtd\">\n",
       "<html lang=\"zh-Hant\">\n",
       "<head>\n",
       "<meta charset=\"utf-8\"/>\n",
       "<meta content=\"width=device-width\" name=\"viewport\"/>\n",
       "<meta content=\"({2347})  週K線圖,漲跌點數,漲跌幅度,本益比河流圖,本淨比河流圖,乖離率河流圖\" name=\"description\"/> <title>({2347})  本益比河流圖 - 週線 - Goodinfo!台灣股市資訊網</title>\n",
       "<link href=\"https://goodinfo.tw/tw/ShowK_ChartFlow.asp?RPT_CAT=PER&amp;STOCK_ID=%7B2347%7D&amp;CHT_CAT=WEEK\" rel=\"canonical\"/>\n",
       "<link href=\"image/Goodinfo.ico\" rel=\"icon\"/>\n",
       "<link href=\"../Library/css/Standard.css?45065.8419907407\" rel=\"stylesheet\" type=\"text/css\"/>\n",
       "<link href=\"../Library/css/Public.css?45066.8097222222\" rel=\"stylesheet\" type=\"text/css\"/>\n",
       "<script charset=\"utf-8\" src=\"Lib.js/Initial.asp\" type=\"text/javascript\"></script>\n",
       "<script charset=\"utf-8\" src=\"Lib.js/Utility.asp\" type=\"text/javascript\"></script>\n",
       "<script charset=\"utf-8\" src=\"Lib.js/Cookie.asp\" type=\"text/javascript\"></script>\n",
       "<script charset=\"utf-8\" src=\"Lib.js/ChartClass.asp\" type=\"text/javascript\"></script>\n",
       "<script charset=\"utf-8\" src=\"Lib.js/ChartFunction.asp\" type=\"text/javascript\"></script>\n",
       "</head>\n",
       "<body onresize=\"SaveScreenSize();RepaintStockChart(StockPainter);\" style=\"font-size:15pt;min-width:812px;\">\n",
       "<!-- Title -->\n",
       "<datalist id=\"dlSTOCK_ID_NM\"></datalist><script charset=\"utf-8\" src=\"Lib.js/TW_STOCK_ID_NM_LIST.js?45170.2572916667\" type=\"text/javascript\"></script><script type=\"text/javascript\">    if ('dlSTOCK_ID_NM' in window && 'garrTW_LIST_STOCK_ID_NM' in window) {         dlSTOCK_ID_NM.innerHTML = '<option value=\\\"' + Join(garrTW_LIST_STOCK_ID_NM,'\\\"><option value=\\\"') + '\\\">';     } </script><div style=\"width:100%;background:rgba(0,0,0,0.3);position:fixed;top:0;z-index:10000;\"><table align=\"center\" border=\"0\" cellpadding=\"0\" cellspacing=\"0\" id=\"MenuMask\" onclick=\"ShowWebSiteMenu();\" style=\"display:none;\" width=\"100%\"><tr height=\"100000px\" valign=\"middle\"><td></td></tr></table></div><div class=\"disable_select\" id=\"divTitleBar\" style=\"min-width:812px;width:100%;background:translate;position:absolute;top:0;z-index:10002;\"><table align=\"center\" class=\"b0 p0 box_shadow\" style=\"font-size:18pt;\" width=\"812px\"> <tr align=\"left\" class=\"bg_h0\" height=\"90px\"><td><table><tr><td onclick=\"ShowWebSiteMenu();\" style=\"cursor:pointer;\" title=\"開啟選單\"><div id=\"FloatMenu\" style=\"border-radius:15px;overflow:hidden;width:432px;top:90px;background:lightgray;padding:2px;display:none;position:absolute;\"></div><a style=\"color:black;text-decoration:none;margin:0 10px 0 16px;font-size:48pt;font-weight:bold;font-family:Times New Roman;\">≡</a></td><td onclick=\"ShowWebSiteMenu();\" style=\"cursor:pointer;\"><div style=\"color:black;text-decoration:none;font-family:Impact,Times New Roman,微軟正黑體,新細明體,sans-serif;font-size:23pt;\"><nobr>Goodinfo!</nobr></div><div style=\"color:black;text-decoration:none;font-family:微軟正黑體,新細明體;font-size:15pt;font-weight:bold;\"><nobr>台灣股市資訊網</nobr></div></td><td><nobr>   </nobr></td></tr></table></td><td style=\"padding-top:6px;\"><nobr><a class=\"link_blue\" href=\"StockList.asp\" target=\"_self\">代號/名稱</a> <form action=\"\" id=\"frmStockSearch\" method=\"POST\" onsubmit=\"txtStockCode.blur(); return CheckStockID();\" style=\"margin-top:0px;margin-bottom:0px;display: inline;\" target=\"_self\"><input autocomplete=\"off\" id=\"txtStockCode\" list=\"dlSTOCK_ID_NM\" maxlength=\"32\" onblur=\"jsp:if (String(txtStockCode.value).trim() == '') {txtStockCode.value = '股票代號/名稱'; txtStockCode.style.color = 'gray';}\" onfocus=\"jsp:if (txtStockCode.style.color != 'black') {txtStockCode.value = ''; txtStockCode.style.color = 'black';}\" size=\"9\" style=\"color:gray;\" type=\"text\" value=\"股票代號/名稱\"/> <input id=\"btnStockSearch\" type=\"submit\" value=\"查詢\"/></form></nobr></td><td align=\"right\" style=\"padding-top:7px;\"><table><tr><td align=\"right\" style=\"padding:3px 0 0 0;\" valign=\"middle\" width=\"90px\"><nobr><b title=\"選擇以facebook或google帳號登入,\n",
       "以啟用下列個人化功能：\n",
       "1.我的自選股\n",
       "2.我的自訂欄位\n",
       "3.K線圖參數設定\">登入</b> </nobr></td><td align=\"center\" style=\"padding:0\" valign=\"middle\"><a href=\"login.asp?STEP=LOGIN&amp;NO_EXPIRE=T&amp;LOGIN_SITE=Google\" id=\"linkLoginGoogle\" target=\"_self\"><img alt=\"使用google帳號進行登入\" border=\"0\" height=\"51px\" src=\"image/social_google_box.png\" title=\"使用google帳號登入,\n",
       "以啟用下列個人化功能：\n",
       "1.我的自選股\n",
       "2.我的自訂欄位\n",
       "3.K線圖參數設定\"/></a></td><td width=\"4px\"></td><td align=\"center\" style=\"padding:0\" valign=\"middle\"><a href=\"login.asp?STEP=LOGIN&amp;NO_EXPIRE=T&amp;LOGIN_SITE=Facebook\" id=\"linkLoginFacebook\" target=\"_self\"><img alt=\"使用facebook帳號進行登入\" border=\"0\" height=\"51px\" src=\"image/facebookicon.png\" title=\"使用facebook帳號登入,\n",
       "以啟用下列個人化功能：\n",
       "1.我的自選股\n",
       "2.我的自訂欄位\n",
       "3.K線圖參數設定\"/></a></td><td width=\"16px\"></td></tr></table></td><td width=\"57px\"><img id=\"imgSetTitleBar\" onclick=\"SetTitleBar()\" src=\"image/pushpin0.png\" style=\"cursor:pointer;\" width=\"51px\"/></td></tr></table><table align=\"center\" id=\"ADMask\" style=\"height:90px;display:none;\" width=\"812px\"><tr><td colspan=\"4\"></td></tr></table></div><table align=\"center\" class=\"b0 p0\" width=\"812px\"><tr height=\"90px\"><td></td></tr><tr height=\"20px\"><td></td></tr></table><script type=\"text/javascript\">    document.getElementById('txtStockCode').addEventListener('input', function(e) {         var s = Replace(txtStockCode.value,'&','&amp;');         if (InStr(dlSTOCK_ID_NM.innerHTML,'<option value=\"' + s + '\"></option>',false) > 0) {            frmStockSearch.btnStockSearch.click();        }    });    function CheckStockID() {          var objInput = frmStockSearch.txtStockCode;         if (String(objInput.value).trim() == '' ||              objInput.value == '股票代號/名稱' && objInput.style.color == 'gray' ||              objInput.value == '查詢字串不可空白' && objInput.style.color == 'red') {              objInput.style.color = 'red';              objInput.value = '查詢字串不可空白';              return false;          };          objInput.style.color = 'gray';          var result = ExecuteAsp('CheckStockID.asp','CALL=AJAX&CHK_STR='+encodeURIComponent(objInput.value));          if (result.result) {              var oJSON = JSON.parse(result.responseText);              if (oJSON.ReturnCode == '0') {                  frmStockSearch.action = oJSON.ActivePage;                  return true;              } else if (oJSON.ReturnCode == '2') {                  frmStockSearch.action = oJSON.ActivePage;                  return true;              } else if (oJSON.ReturnCode == '1') {                  objInput.style.color = 'red';                  objInput.value = '此股票不存在';              } else {                  objInput.style.color = 'red';                  objInput.value = '不明錯誤';              }          };          return false;     }     function ShowWebSiteMenu() {         if (MenuMask.style.display != '') {             var bMobileMode = true;             if ('StockDetailMenu' in window) { FloatMenu.innerHTML = StockDetailMenu.innerHTML; }             else if ('IdxMenu' in window) { FloatMenu.innerHTML = IdxMenu.innerHTML; }             else if ('SettingMenu' in window) { FloatMenu.innerHTML = SettingMenu.innerHTML; }             else { FloatMenu.innerHTML = MainMenuTW.innerHTML; }             if (bMobileMode) {                 FloatMenu.innerHTML = String(FloatMenu.innerHTML).replace(/ height=\"23px\"/gi, ' height=\"50px\"');                 FloatMenu.innerHTML = String(FloatMenu.innerHTML).replace(/ height='23px'/gi, ' height=\\'50px\\'');                 FloatMenu.innerHTML = String(FloatMenu.innerHTML).replace(/font-size:11pt/gi, 'font-size:24pt');                 FloatMenu.innerHTML = String(FloatMenu.innerHTML).replace(/font-size:10pt/gi, 'font-size:23pt');             }             FloatMenu.innerHTML = String(FloatMenu.innerHTML).replace(/ class=\"r10 /gi, ' class=\"r0 ');             FloatMenu.innerHTML = String(FloatMenu.innerHTML).replace(/ class='r10 /gi, ' class=\\'r0 ');             MenuMask.style.display = '';            FloatMenu.style.display = '';        } else {             MenuMask.style.display = 'none';            FloatMenu.style.display = 'none';        }     }     function SetTitleBar() {         setCookie('FLOAT_TITLE_BAR',(getCookie('FLOAT_TITLE_BAR')=='T'?'F':'T'),3650,'/');         imgSetTitleBar.src = 'image/pushpin' + (getCookie('FLOAT_TITLE_BAR')=='T'?'1':'0') + '.png';         divTitleBar.style.position = (getCookie('FLOAT_TITLE_BAR')=='T'?'fixed':'absolute');    } </script>\n",
       "<!-- Main Frame -->\n",
       "<table align=\"center\" width=\"812px\">\n",
       "<tr valign=\"top\">\n",
       "<td style=\"display:none;\"><div id=\"StockDetailMenu\"><table bgcolor=\"white\" class=\"disable_select\" style=\"font-size:11pt\" width=\"100%\"> <tr valign=\"top\"><td width=\"49%\"> <table class=\"r10 bg_menu box_shadow\" width=\"100%\"> <tr height=\"23px\"><td class=\"bg_h0\" style=\"text-align:center;font-size:10pt;\">基本概況</td></tr> <tr height=\"23px\"><td> <a class=\"link_blue\" href=\"StockDetail.asp?STOCK_ID={2347}\">個股市況</a></td></tr> <tr height=\"23px\"><td> <a class=\"link_blue\" href=\"BasicInfo.asp?STOCK_ID={2347}\">基本資料</a></td></tr> <tr height=\"23px\"><td> <a class=\"link_blue\" href=\"StockAnnounceList.asp?START_DT=2023%2F8%2F2&amp;END_DT=2023%2F9%2F1&amp;STOCK_ID={2347}\">新聞公告</a></td></tr><tr height=\"23px\"><td style=\"color:#A0A0A0;\"> 經營績效</td></tr><tr height=\"23px\"><td style=\"color:#A0A0A0;\"> 資產狀況</td></tr><tr height=\"23px\"><td style=\"color:#A0A0A0;\"> 現金流量</td></tr><tr height=\"23px\"><td style=\"color:#A0A0A0;\"> 每月營收</td></tr><tr height=\"23px\"><td style=\"color:#A0A0A0;\"> 產品營收</td></tr><tr height=\"23px\"><td class=\"bg_h0\" style=\"text-align:center;font-size:10pt\">股東權益</td></tr><tr height=\"23px\"><td style=\"color:#A0A0A0;\"> 股東會日程</td></tr> <tr height=\"23px\"><td> <a class=\"link_blue\" href=\"StockDividendPolicy.asp?STOCK_ID={2347}\">股利政策</a></td></tr> <tr height=\"23px\"><td> <a class=\"link_blue\" href=\"StockDividendSchedule.asp?STOCK_ID={2347}\">除權息日程</a></td></tr> <tr height=\"23px\"><td> <a class=\"link_blue\" href=\"MarginPauseSchedule.asp?STOCK_ID={2347}\">停資停券日</a></td></tr><tr height=\"23px\"><td style=\"color:#A0A0A0;\"> 員工薪資</td></tr> <tr height=\"23px\"><td class=\"bg_h0\" style=\"text-align:center;font-size:10pt\">財務報表</td></tr><tr height=\"23px\"><td style=\"color:#A0A0A0;\"> 資產負債表</td></tr><tr height=\"23px\"><td style=\"color:#A0A0A0;\"> 損益表</td></tr><tr height=\"23px\"><td style=\"color:#A0A0A0;\"> 現金流量表</td></tr><tr height=\"23px\"><td style=\"color:#A0A0A0;\"> 財務比率表</td></tr><tr height=\"23px\"><td style=\"color:#A0A0A0;\"> 財務評分表</td></tr><tr height=\"23px\"><td style=\"color:#A0A0A0;\"> 財報比較</td></tr> </table> </td><td width=\"2%\"></td><td width=\"49%\"> <table class=\"r10 bg_menu box_shadow\" width=\"100%\"> <tr height=\"23px\"><td class=\"bg_h0\" style=\"text-align:center;font-size:10pt;\">籌碼分析</td></tr> <tr height=\"23px\"><td> <a class=\"link_blue\" href=\"ShowBuySaleChart.asp?STOCK_ID={2347}&amp;CHT_CAT=DATE\">法人買賣</a></td></tr><tr height=\"23px\"><td style=\"color:#A0A0A0;\"> 融資融券</td></tr><tr height=\"23px\"><td style=\"color:#A0A0A0;\"> 現股當沖</td></tr> <tr height=\"23px\"><td> <a class=\"link_blue\" href=\"EquityDistributionClassHis.asp?STOCK_ID={2347}\">持股分級</a></td></tr><tr height=\"23px\"><td style=\"color:#A0A0A0;\"> 股東結構</td></tr><tr height=\"23px\"><td style=\"color:#A0A0A0;\"> 董監持股</td></tr><tr height=\"23px\"><td style=\"color:#A0A0A0;\"> 申報轉讓</td></tr> <tr height=\"23px\"><td class=\"bg_h0\" style=\"text-align:center;font-size:10pt\">技術分析</td></tr> <tr height=\"23px\"><td> <a class=\"link_blue\" href=\"ShowK_Chart.asp?STOCK_ID={2347}&amp;CHT_CAT2=DATE\">個股K線圖</a></td></tr> <tr height=\"23px\"><td> <a class=\"link_blue\" href=\"ShowK_ChartCompare.asp?STOCK_ID={2347}&amp;STOCK_ID1=&amp;CHT_CAT2=DATE\">K線比較圖</a></td></tr><tr height=\"23px\"><td style=\"color:#A0A0A0;font-size:10pt;\"> 本益比河流圖</td></tr><tr height=\"23px\"><td style=\"color:#A0A0A0;font-size:10pt;\"> 本淨比河流圖</td></tr> <tr height=\"23px\"><td> <a class=\"link_blue\" href=\"ShowK_ChartFlow.asp?RPT_CAT=DR%5F3M&amp;STOCK_ID={2347}&amp;CHT_CAT=WEEK\" style=\"font-size:10pt\">乖離率河流圖</a></td></tr> <tr height=\"23px\"><td> <a class=\"link_blue\" href=\"StockHisAnaQuar.asp?STOCK_ID={2347}\">季漲跌統計</a></td></tr> <tr height=\"23px\"><td> <a class=\"link_blue\" href=\"StockHisAnaMonth.asp?STOCK_ID={2347}\">月漲跌統計</a></td></tr> <tr height=\"23px\"><td class=\"bg_h0\" style=\"text-align:center;font-size:10pt\">其他</td></tr> <tr height=\"23px\"><td> <a class=\"link_blue\" href=\"ShowK_ChartFlow.asp?RPT_CAT=PER&amp;STOCK_ID=%7B\" target=\"_self\">上一檔股票</a></td></tr> <tr height=\"23px\"><td> <a class=\"link_blue\" href=\"ShowK_ChartFlow.asp?RPT_CAT=PER&amp;STOCK_ID=%7B\" target=\"_self\">下一檔股票</a></td></tr> <tr height=\"23px\"><td><nobr> <a class=\"link_blue\" href=\"StockIdxDetail.asp?STOCK_ID=%E5%8A%A0%E6%AC%8A%E6%8C%87%E6%95%B8\">上市大盤</a></nobr></td></tr> <tr height=\"23px\"><td><nobr> <a class=\"link_blue\" href=\"StockIdxDetail.asp?STOCK_ID=%E6%AB%83%E8%B2%B7%E6%8C%87%E6%95%B8\">上櫃大盤</a></nobr></td></tr> <tr height=\"23px\"><td><nobr> <a class=\"link_blue\" href=\"index.asp\" target=\"_self\">回到首頁</a></nobr></td></tr> </table> </td></tr></table></div></td>\n",
       "<td>\n",
       "<table align=\"center\" valing=\"top\" width=\"100%\"> <tr align=\"center\" valign=\"top\"><td height=\"1px\"> <table class=\"b1 p4_2 r10 box_shadow\" style=\"width:100%;font-size:15pt;\"> <tr align=\"left\" class=\"bg_h0 fw_normal\" height=\"31px\" valign=\"bottom\"> <th colspan=\"8\" style=\"padding-bottom:3px;\">            <span style=\"color:blue;font-size:19pt;font-weight:bold;\"><a class=\"link_blue\" href=\"StockDetail.asp?STOCK_ID=%7B2347%7D\">{2347} </a></span>                     <span style=\"font-size:12pt;color:gray;\">資料日期: 無交易資料</span></th> </tr> <tr class=\"bg_h1 fw_normal\" height=\"28px\"> <th width=\"13%\"><nobr>成交價</nobr></th> <th width=\"13%\"><nobr>昨收</nobr></th> <th width=\"13%\"><nobr>漲跌價</nobr></th> <th width=\"13%\"><nobr>漲跌幅</nobr></th> <th width=\"13%\"><nobr>振幅</nobr></th> <th width=\"10%\"><nobr>開盤</nobr></th> <th width=\"10%\"><nobr>最高</nobr></th> <th width=\"10%\"><nobr>最低</nobr></th> </tr> <tr align=\"center\" bgcolor=\"white\" height=\"28px\"> <td>-</td><td>-</td><td>-</td><td>-</td><td>-</td><td>-</td><td>-</td><td>-</td> </tr> <tr class=\"bg_h1 fw_normal\" height=\"28px\"> <th><nobr>成交張數</nobr></th> <th><nobr>成交金額</nobr></th> <th><nobr>成交筆數</nobr></th> <th><nobr>成交均張</nobr></th> <th><nobr>成交均價</nobr></th> <th title=\"PBR=成交價/最近一季BPS\"><nobr>PBR</nobr></th> <th title=\"PER=成交價/近四季合計EPS\"><nobr>PER</nobr></th> <th title=\"PEG=PER/近四季合計稅後淨利年成長率\"><nobr>PEG</nobr></th> </tr> <tr align=\"center\" bgcolor=\"white\" height=\"28px\"> <td>-</td><td>-</td><td>-</td><td>-</td><td>-</td><td>-</td><td>-</td><td>-</td> </tr> <tr class=\"bg_h1 fw_normal\" height=\"28px\"> <th><nobr>昨日張數</nobr></th> <th><nobr>昨日金額</nobr></th> <th><nobr>昨日筆數</nobr></th> <th><nobr>昨日均張</nobr></th> <th><nobr>昨日均價</nobr></th> <th colspan=\"3\"><nobr>昨漲跌價 (幅)</nobr></th> </tr> <tr align=\"center\" bgcolor=\"white\" height=\"28px\"> <td>-</td><td>-</td><td>-</td><td>-</td><td>-</td><td>-</td><td>-</td><td>-</td> </tr> <tr align=\"left\" class=\"bg_h0\" style=\"font-size:12pt\" valign=\"middle\"> <td colspan=\"8\"> <p style=\"margin:6px 0 4px 6px\">  </p> <p style=\"margin:4px 0 6px 6px\">  </p> </td> </tr></table></td></tr><tr style=\"height:20px;\"><td colspan=\"3\"></td></tr><tr><td colspan=\"3\"><table id=\"AD22\" style=\"height:590px;width:100%;background:white;\"><tr height=\"70px\"><td></td></tr><tr height=\"450px\"><td align=\"center\" style=\"position:relative;\" valign=\"middle\"><div onclick='var o=this;o.style.display=\"none\";setTimeout(function(){o.style.display=\"\";},2000);' style=\"z-index:11;position:absolute;left:50%;transform:translateX(-50%);width:724px;height:40px;\"></div><div onclick='var o=this;o.style.display=\"none\";setTimeout(function(){o.style.display=\"\";},2000);' style=\"z-index:11;position:absolute;left:50%;top:100%;transform:translate(-50%,-39px);width:724px;height:40px;\"></div><div onclick='var o=this;o.style.display=\"none\";setTimeout(function(){o.style.display=\"\";},2000);' style=\"z-index:11;position:absolute;left:50%;transform:translateX(-401px);width:40px;height:451px;\"></div><div onclick='var o=this;o.style.display=\"none\";setTimeout(function(){o.style.display=\"\";},2000);' style=\"z-index:11;position:absolute;left:50%;transform:translateX(361px);width:40px;height:451px;\"></div><div id=\"DFP_9541220565\" style=\"width:800px;text-align:center;\"></div></td></tr><tr height=\"70px\"><td></td></tr></table><script type=\"text/javascript\">ADList.push(\"AD22\");googletag.cmd.push(function() {  googletag.defineSlot('/166795457/TW_800x450', [800,450], 'DFP_9541220565').addService(googletag.pubads());  googletag.pubads().enableSingleRequest();  googletag.enableServices();  googletag.display('DFP_9541220565');});</script></td></tr></table>\n",
       "<p style=\"margin:0 0 20px 0\"></p>\n",
       "<p style=\"margin:0 0 20px 0\"></p>\n",
       "<p style=\"margin:0 0 20px 0\"></p>\n",
       "<div id=\"divK_ChartFlowDetail\">\n",
       "<p align=\"center\" style=\"line-height:240px;;font-size:19pt;color:red;font-weight:bold\">查無相關資料!!</p>\n",
       "</div>\n",
       "</td>\n",
       "</tr>\n",
       "</table>\n",
       "<!-- 版權及責任宣告 -->\n",
       "<p style=\"margin-top:0px;margin-bottom:8px\"></p><table align=\"center\" class=\"b0 p0\" width=\"812px\"><tr><td><hr/></td></tr></table><table align=\"center\" class=\"b0 p0\" style=\"font-size:12pt;color:gray;\" width=\"812px\"> <tr> <td> <p style=\"margin-top: 0px; margin-bottom: 3px\">股豐資訊有限公司 (統一編號 24620254) 版權所有 © 2012-2023 Good Information Co., Ltd. All Rights Reserved.  <nobr>(<a class=\"link_blue\" href=\"ServiceTerms.asp\" target=\"_self\">服務條款</a>)</nobr></p> <p style=\"margin-top: 0px; margin-bottom: 3px\">本網站運用 Cookie 技術以提供您更佳的瀏覽體驗，如果您持續使用本網站，代表您已同意使用。 <nobr>(<a class=\"link_blue\" href=\"Privacy.asp\" target=\"_self\">隱私及Cookies政策</a>)</nobr></p> <p style=\"margin-top: 0px; margin-bottom: 3px\">本網站所有資料僅供參考，如使用者依本資料交易發生交易損失需自行負責，股豐資訊有限公司 對資料內容錯誤、更新延誤或傳輸中斷不負任何責任。</p><p style=\"margin-top: 0px; margin-bottom: 3px\"><a class=\"link_blue\" href=\"https://www.ettoday.net/\" target=\"_blank\">ETtoday新聞雲</a> | <a class=\"link_blue\" href=\"https://www.cnyes.com/\" target=\"_blank\">Anue鉅亨</a> | <a class=\"link_blue\" href=\"https://hk.prnasia.com/\" target=\"_blank\">PR Newswire</a> | <a class=\"link_blue\" href=\"https://hk.investing.com/\" target=\"_blank\">Investing.com</a> 相關新聞標題與內容之著作權與智慧財產權均屬原網站及原作者所有，本網站僅提供新聞聯播，不主張任何權利。</p><br/></td></tr></table><br/>\n",
       "</body>\n",
       "<script type=\"text/javascript\">\n",
       "\tInitial();\n",
       "</script>\n",
       "</html>"
      ]
     },
     "execution_count": 2,
     "metadata": {},
     "output_type": "execute_result"
    }
   ],
   "source": [
    "# 本益比\n",
    "skno = input('輸入股票代號')\n",
    "pe_url = f'https://goodinfo.tw/tw/ShowK_ChartFlow.asp?RPT_CAT=PER&STOCK_ID='+str({skno})+'&CHT_CAT=WEEK'\n",
    "headers = {'user-agent': 'Mozilla/5.0 (Linux; Android 11; SAMSUNG SM-G973U) AppleWebKit/537.36 (KHTML, like Gecko) SamsungBrowser/14.2 Chrome/87.0.4280.141 Mobile Safari/537.36'}\n",
    "\n",
    "peresp = requests.get(pe_url, headers=headers)\n",
    "peresp.encoding = 'UTF-8'\n",
    "pesoup = BeautifulSoup(peresp.text, 'lxml')\n",
    "\n",
    "\n",
    "# 出來的soup佮網頁無仝！可能牽涉著POST\n",
    "pesoup"
   ]
  },
  {
   "cell_type": "code",
   "execution_count": 3,
   "metadata": {},
   "outputs": [],
   "source": [
    "t = pesoup.find('table', class_='b1 p4_0 r0_10 row_bg_2n row_mouse_over')\n",
    "t\n",
    "\n",
    "# pe = pesoup.find('table', class_='b1 p4_0 r0_10 row_bg_2n row_mouse_over').find_all('td')[4].text.strip()\n",
    "\n"
   ]
  },
  {
   "cell_type": "code",
   "execution_count": null,
   "metadata": {},
   "outputs": [],
   "source": [
    "api_url = 'https://goodinfo.tw/tw/StockDetail.asp'\n"
   ]
  }
 ],
 "metadata": {
  "kernelspec": {
   "display_name": "Python 3",
   "language": "python",
   "name": "python3"
  },
  "language_info": {
   "codemirror_mode": {
    "name": "ipython",
    "version": 3
   },
   "file_extension": ".py",
   "mimetype": "text/x-python",
   "name": "python",
   "nbconvert_exporter": "python",
   "pygments_lexer": "ipython3",
   "version": "3.7.4"
  }
 },
 "nbformat": 4,
 "nbformat_minor": 2
}
